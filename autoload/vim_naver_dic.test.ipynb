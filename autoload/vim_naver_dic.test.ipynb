{
 "cells": [
  {
   "cell_type": "markdown",
   "metadata": {
    "collapsed": true,
    "pycharm": {
     "is_executing": false,
     "name": "#%% md\n"
    }
   },
   "source": [
    "* naverdic test"
   ]
  },
  {
   "cell_type": "code",
   "execution_count": 1,
   "outputs": [
    {
     "name": "stdout",
     "text": [
      "** \"cascade\"에 대한 네이버 검색결과\n",
      "* 발음기호 미국식: [kæˈskeɪd], 영국식: [kæˈskeɪd] \n",
      "* 품사: [명사]\n",
      "* 의미: \n",
      "      1. 작은 폭포 \n",
      "      2. (정보통신) 종속, 연속, 직렬 \n",
      "      3. 폭포수가 되어 떨어지다 \n",
      "      4. [the ~] 캐스케이드 산맥 ((미국 California 주 북부에서 캐나다의 British Columbia 주에 이르는)) \n",
      "      5. 억수같은 비 \n",
      "\n",
      "\n"
     ],
     "output_type": "stream"
    }
   ],
   "source": [
    "from autoload.vim_naver_dic import get_naver_dic\n",
    "# %run vim_naver_dic.py\n",
    "\n",
    "print(get_naver_dic('cascade'))"
   ],
   "metadata": {
    "collapsed": false,
    "pycharm": {
     "name": "#%%\n",
     "is_executing": false
    }
   }
  },
  {
   "cell_type": "code",
   "execution_count": null,
   "outputs": [],
   "source": [
    "%run vim_naver_dic.py\n",
    "print(\"hi\")"
   ],
   "metadata": {
    "collapsed": false,
    "pycharm": {
     "name": "#%%\n"
    }
   }
  }
 ],
 "metadata": {
  "kernelspec": {
   "name": "pycharm-c53e69e",
   "language": "python",
   "display_name": "PyCharm (sungkim.fogtest)"
  },
  "language_info": {
   "codemirror_mode": {
    "name": "ipython",
    "version": 2
   },
   "file_extension": ".py",
   "mimetype": "text/x-python",
   "name": "python",
   "nbconvert_exporter": "python",
   "pygments_lexer": "ipython2",
   "version": "2.7.6"
  },
  "pycharm": {
   "stem_cell": {
    "cell_type": "raw",
    "source": [],
    "metadata": {
     "collapsed": false
    }
   }
  }
 },
 "nbformat": 4,
 "nbformat_minor": 0
}