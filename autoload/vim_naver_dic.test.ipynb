{
 "cells": [
  {
   "cell_type": "markdown",
   "metadata": {
    "collapsed": true,
    "pycharm": {
     "is_executing": false,
     "name": "#%% md\n"
    }
   },
   "source": [
    "* naverdic test"
   ]
  },
  {
   "cell_type": "code",
   "execution_count": 1,
   "outputs": [
    {
     "name": "stdout",
     "text": [
      "** \"haar\"에 대한 네이버 검색결과\n",
      "* 발음기호 미국식: [hɑː(r)], 영국식: [hɑː(r)] \n",
      "* 발음음성은 지원하지 않습니다.\n",
      "* 품사: [명사]\n",
      "* 의미: \n",
      "      1. (잉글랜드나 스코틀랜드 동부 해안의) 차가운 바다 안개 \n",
      "      2. [Proper noun] municipality near Munich, Germany. \n",
      "      3. 하르 측도 \n",
      "      4. 하르 측정 \n",
      "      5. 하르 변환 \n",
      "\n",
      "\n"
     ],
     "output_type": "stream"
    }
   ],
   "source": [
    "from autoload.vim_naver_dic import get_naver_dic\n",
    "# %run vim_naver_dic.py\n",
    "\n",
    "print(get_naver_dic('haar'))"
   ],
   "metadata": {
    "collapsed": false,
    "pycharm": {
     "name": "#%%\n",
     "is_executing": false
    }
   }
  },
  {
   "cell_type": "code",
   "execution_count": null,
   "outputs": [],
   "source": [
    "%run vim_naver_dic.py\n",
    "print(\"hi\")"
   ],
   "metadata": {
    "collapsed": false,
    "pycharm": {
     "name": "#%%\n"
    }
   }
  }
 ],
 "metadata": {
  "kernelspec": {
   "name": "pycharm-c53e69e",
   "language": "python",
   "display_name": "PyCharm (sungkim.fogtest)"
  },
  "language_info": {
   "codemirror_mode": {
    "name": "ipython",
    "version": 2
   },
   "file_extension": ".py",
   "mimetype": "text/x-python",
   "name": "python",
   "nbconvert_exporter": "python",
   "pygments_lexer": "ipython2",
   "version": "2.7.6"
  },
  "pycharm": {
   "stem_cell": {
    "cell_type": "raw",
    "source": [],
    "metadata": {
     "collapsed": false
    }
   }
  }
 },
 "nbformat": 4,
 "nbformat_minor": 0
}